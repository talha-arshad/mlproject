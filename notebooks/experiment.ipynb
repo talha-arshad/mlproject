{
 "cells": [
  {
   "cell_type": "code",
   "execution_count": null,
   "metadata": {},
   "outputs": [],
   "source": [
    "from mlproject import util\n",
    "from mlproject.training import setup_training \n",
    "\n",
    "config_file_path = \"../runs/config.yaml\"\n",
    "config = util.load_config_from_yaml(config_file_path)\n",
    "datamodule, model, trainer = setup_training(config, prepare_data=True)\n",
    "print(config)"
   ]
  },
  {
   "cell_type": "code",
   "execution_count": null,
   "metadata": {},
   "outputs": [],
   "source": [
    "trainer.fit(model, datamodule=datamodule)"
   ]
  },
  {
   "cell_type": "code",
   "execution_count": 1,
   "metadata": {},
   "outputs": [
    {
     "name": "stdout",
     "output_type": "stream",
     "text": [
      "/home/talhaarshad/miniconda3/envs/baseenv311/bin/python\n"
     ]
    }
   ],
   "source": [
    "!which python"
   ]
  },
  {
   "cell_type": "code",
   "execution_count": 5,
   "metadata": {},
   "outputs": [
    {
     "name": "stdout",
     "output_type": "stream",
     "text": [
      "Adjusting learning rate of group 0 to 1.0000e-03.\n",
      "Global seed set to 42\n",
      "GPU available: False, used: False\n",
      "TPU available: False, using: 0 TPU cores\n",
      "IPU available: False, using: 0 IPUs\n",
      "HPU available: False, using: 0 HPUs\n",
      "/home/talhaarshad/miniconda3/envs/baseenv311/lib/python3.11/site-packages/lightning/pytorch/trainer/connectors/logger_connector/logger_connector.py:67: UserWarning: Starting from v1.9.0, `tensorboardX` has been removed as a dependency of the `lightning.pytorch` package, due to potential conflicts with other packages in the ML ecosystem. For this reason, `logger=True` will use `CSVLogger` as the default logger, unless the `tensorboard` or `tensorboardX` packages are found. Please `pip install lightning[extra]` or one of them to enable TensorBoard support by default\n",
      "  warning_cache.warn(\n",
      "\n",
      "  | Name   | Type               | Params\n",
      "----------------------------------------------\n",
      "0 | model  | CNN                | 19.5 K\n",
      "1 | acc_fn | MulticlassAccuracy | 0     \n",
      "----------------------------------------------\n",
      "19.5 K    Trainable params\n",
      "0         Non-trainable params\n",
      "19.5 K    Total params\n",
      "0.078     Total estimated model params size (MB)\n",
      "Sanity Checking: 0it [00:00, ?it/s]/home/talhaarshad/miniconda3/envs/baseenv311/lib/python3.11/site-packages/lightning/pytorch/trainer/connectors/data_connector.py:442: PossibleUserWarning: The dataloader, val_dataloader, does not have many workers which may be a bottleneck. Consider increasing the value of the `num_workers` argument` (try 8 which is the number of cpus on this machine) in the `DataLoader` init to improve performance.\n",
      "  rank_zero_warn(\n",
      "/home/talhaarshad/miniconda3/envs/baseenv311/lib/python3.11/site-packages/lightning/pytorch/trainer/connectors/data_connector.py:442: PossibleUserWarning: The dataloader, train_dataloader, does not have many workers which may be a bottleneck. Consider increasing the value of the `num_workers` argument` (try 8 which is the number of cpus on this machine) in the `DataLoader` init to improve performance.\n",
      "  rank_zero_warn(\n",
      "Epoch 0:  20%|▏| 339/1719 [00:19<01:18, 17.60it/s, v_num=8, train/loss=1.090, tr^C\n",
      "/home/talhaarshad/miniconda3/envs/baseenv311/lib/python3.11/site-packages/lightning/pytorch/trainer/call.py:53: UserWarning: Detected KeyboardInterrupt, attempting graceful shutdown...\n",
      "  rank_zero_warn(\"Detected KeyboardInterrupt, attempting graceful shutdown...\")\n"
     ]
    }
   ],
   "source": [
    "!python ../training/train.py ../runs/config.yaml"
   ]
  },
  {
   "cell_type": "code",
   "execution_count": null,
   "metadata": {},
   "outputs": [],
   "source": [
    "def plot_metrics(ax, train_df, val_df, metric, metric_title):\n",
    "    train_metric_str = 'train/' + str(metric)\n",
    "    val_metric_str = 'val/' + str(metric)\n",
    "    ax.plot(train_df['step'], train_df[train_metric_str], '-o', label=train_metric_str)\n",
    "    ax.plot(val_df['step'], val_df[val_metric_str], '-o', label=val_metric_str)\n",
    "    ax.set_xlabel('Epoch', fontsize=14)\n",
    "    ax.set_ylabel(metric_title, fontsize=14)\n",
    "    ax.set_title(metric_title, fontsize=16, fontweight='bold')\n",
    "    ax.legend(fontsize=14); ax.grid()\n",
    "    plt.setp(ax.get_xticklabels(), fontsize=14)\n",
    "    plt.setp(ax.get_yticklabels(), fontsize=14)\n",
    "\n",
    "def prepare_dataframes(metrics_csv: str):\n",
    "    df = pd.read_csv(metrics_csv)\n",
    "    train_df = df.copy().loc[:, ~df.columns.str.contains('val')].dropna()\n",
    "    val_df = df.copy().loc[:, ~df.columns.str.contains('train')].dropna()\n",
    "    return train_df, val_df\n"
   ]
  },
  {
   "cell_type": "code",
   "execution_count": null,
   "metadata": {},
   "outputs": [],
   "source": [
    "fig, ax = plt.subplots(1, 2, figsize=(12, 5))\n",
    "\n",
    "ax = fig.axes[0]\n",
    "ax.plot(train_df['step'], train_df['train/loss'], '-o', label='train/loss')\n",
    "ax.plot(val_df['step'], val_df['val/loss'], '-o', label='val/loss')\n",
    "ax.set_xlabel('Epoch', fontsize=14)\n",
    "ax.set_ylabel('Loss', fontsize=14)\n",
    "ax.set_title('Loss', fontsize=16, fontweight='bold')\n",
    "ax.legend(fontsize=14); ax.grid()\n",
    "plt.setp(ax.get_xticklabels(), fontsize=14)\n",
    "plt.setp(ax.get_yticklabels(), fontsize=14)\n",
    "\n",
    "ax = fig.axes[1]\n",
    "ax.plot(train_df['step'], train_df['train/accu'], '-o', label='train/accu')\n",
    "ax.plot(val_df['step'], val_df['val/accu'], '-o', label='val/accu')\n",
    "ax.set_xlabel('Epoch', fontsize=14)\n",
    "ax.set_ylabel('Accuracy', fontsize=14)\n",
    "ax.set_title('Accuracy', fontsize=16, fontweight='bold')\n",
    "ax.legend(fontsize=14); ax.grid()\n",
    "plt.setp(ax.get_xticklabels(), fontsize=14)\n",
    "plt.setp(ax.get_yticklabels(), fontsize=14)"
   ]
  },
  {
   "cell_type": "code",
   "execution_count": null,
   "metadata": {},
   "outputs": [],
   "source": [
    "x, y = next(iter(dm.train_dataloader()))\n",
    "x.shape, y.shape\n"
   ]
  }
 ],
 "metadata": {
  "kernelspec": {
   "display_name": "baseenv311",
   "language": "python",
   "name": "python3"
  },
  "language_info": {
   "codemirror_mode": {
    "name": "ipython",
    "version": 3
   },
   "file_extension": ".py",
   "mimetype": "text/x-python",
   "name": "python",
   "nbconvert_exporter": "python",
   "pygments_lexer": "ipython3",
   "version": "3.11.5"
  },
  "orig_nbformat": 4
 },
 "nbformat": 4,
 "nbformat_minor": 2
}
